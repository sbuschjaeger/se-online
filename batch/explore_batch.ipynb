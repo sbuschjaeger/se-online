{
 "metadata": {
  "language_info": {
   "codemirror_mode": {
    "name": "ipython",
    "version": 3
   },
   "file_extension": ".py",
   "mimetype": "text/x-python",
   "name": "python",
   "nbconvert_exporter": "python",
   "pygments_lexer": "ipython3",
   "version": "3.7.8-final"
  },
  "orig_nbformat": 2,
  "kernelspec": {
   "name": "python3",
   "display_name": "Python 3",
   "language": "python"
  }
 },
 "nbformat": 4,
 "nbformat_minor": 2,
 "cells": [
  {
   "cell_type": "code",
   "execution_count": 119,
   "metadata": {},
   "outputs": [
    {
     "output_type": "execute_result",
     "data": {
      "text/plain": [
       "   X  Y  experiment_id  idx           loss                   model  \\\n",
       "0  X  Y              0  idx  cross-entropy  RandomForestClassifier   \n",
       "\n",
       "                                            out_path  repetitions  seed  \\\n",
       "0  /home/buschjae/projects/psgd-ensemble/batch/co...            5     0   \n",
       "\n",
       "   verbose  ...  scores.std_n_parameters scores.std_test_accuracy  \\\n",
       "0    False  ...                 2397.748                    0.169   \n",
       "\n",
       "   scores.std_test_loss  scores.std_train_accuracy  scores.std_train_loss  \\\n",
       "0                   0.0                      0.105                    0.0   \n",
       "\n",
       "                                scores.test_accuracy  \\\n",
       "0  [77.46960061272084, 77.61828539956282, 77.6897...   \n",
       "\n",
       "                                    scores.test_loss  \\\n",
       "0  [0.21391216818570813, 0.21379306627145547, 0.2...   \n",
       "\n",
       "                               scores.train_accuracy  \\\n",
       "0  [77.88764393039706, 77.9335167778593, 77.62650...   \n",
       "\n",
       "                                   scores.train_loss  \\\n",
       "0  [0.21363371805704515, 0.2134760119354866, 0.21...   \n",
       "\n",
       "                            nice_name  \n",
       "0  RandomForestClassifier with T = 64  \n",
       "\n",
       "[1 rows x 38 columns]"
      ],
      "text/html": "<div>\n<style scoped>\n    .dataframe tbody tr th:only-of-type {\n        vertical-align: middle;\n    }\n\n    .dataframe tbody tr th {\n        vertical-align: top;\n    }\n\n    .dataframe thead th {\n        text-align: right;\n    }\n</style>\n<table border=\"1\" class=\"dataframe\">\n  <thead>\n    <tr style=\"text-align: right;\">\n      <th></th>\n      <th>X</th>\n      <th>Y</th>\n      <th>experiment_id</th>\n      <th>idx</th>\n      <th>loss</th>\n      <th>model</th>\n      <th>out_path</th>\n      <th>repetitions</th>\n      <th>seed</th>\n      <th>verbose</th>\n      <th>...</th>\n      <th>scores.std_n_parameters</th>\n      <th>scores.std_test_accuracy</th>\n      <th>scores.std_test_loss</th>\n      <th>scores.std_train_accuracy</th>\n      <th>scores.std_train_loss</th>\n      <th>scores.test_accuracy</th>\n      <th>scores.test_loss</th>\n      <th>scores.train_accuracy</th>\n      <th>scores.train_loss</th>\n      <th>nice_name</th>\n    </tr>\n  </thead>\n  <tbody>\n    <tr>\n      <th>0</th>\n      <td>X</td>\n      <td>Y</td>\n      <td>0</td>\n      <td>idx</td>\n      <td>cross-entropy</td>\n      <td>RandomForestClassifier</td>\n      <td>/home/buschjae/projects/psgd-ensemble/batch/co...</td>\n      <td>5</td>\n      <td>0</td>\n      <td>False</td>\n      <td>...</td>\n      <td>2397.748</td>\n      <td>0.169</td>\n      <td>0.0</td>\n      <td>0.105</td>\n      <td>0.0</td>\n      <td>[77.46960061272084, 77.61828539956282, 77.6897...</td>\n      <td>[0.21391216818570813, 0.21379306627145547, 0.2...</td>\n      <td>[77.88764393039706, 77.9335167778593, 77.62650...</td>\n      <td>[0.21363371805704515, 0.2134760119354866, 0.21...</td>\n      <td>RandomForestClassifier with T = 64</td>\n    </tr>\n  </tbody>\n</table>\n<p>1 rows × 38 columns</p>\n</div>"
     },
     "metadata": {},
     "execution_count": 119
    }
   ],
   "source": [
    "import pandas as pd\n",
    "from pandas.io.json import json_normalize \n",
    "import os\n",
    "import json \n",
    "\n",
    "def read_jsonl(path):\n",
    "    data = []\n",
    "    with open(path, 'r', encoding='utf-8') as f:\n",
    "        for line in f:\n",
    "            data.append(json.loads(line))\n",
    "\n",
    "    return json_normalize(data)\n",
    "\n",
    "def nice_name(row):\n",
    "    if (row[\"model\"] in [\"RandomForestClassifier\", \"ExtraTreesClassifier\", \"GradientBoostingClassifier\"]): \n",
    "        model_name = \"{} with T = {}\".format(row[\"model\"], row[\"model_params.n_estimators\"])\n",
    "    elif row[\"model\"] == \"RiverModel\":\n",
    "        model_name = \"{} with {}\".format(row[\"model\"], row[\"river_model\"])\n",
    "    elif (row[\"model\"] == \"BiasedProxEnsemble\"):\n",
    "        if int(row[\"max_trees\"]) == 0:\n",
    "            model_name = \"{} with λ = {}, max_depth = {}, modes = {}/{}, stepsize = {}\".format(row[\"model\"],row[\"model_params.l_reg\"], row[\"model_params.max_depth\"], row[\"model_params.init_mode\"],row[\"model_params.next_mode\"], row[\"model_params.step_size\"])\n",
    "        else:\n",
    "            model_name = \"{} with T = {}, max_depth = {}, modes = {}/{}, stepsize = {} with λ = {}\".format(row[\"model\"], row[\"model_params.max_trees\"], row[\"model_params.max_depth\"], row[\"step_size\"], row[\"init_mode\"],row[\"next_mode\"], row[\"l_reg\"])\n",
    "    elif row[\"model\"] == \"JaxModel\":\n",
    "        model_name = \"{} with T = {}, max_depth = {}, with temp_scaling = {}\".format(row[\"model\"], row[\"model_params.n_trees\"], row[\"model_params.max_depth\"], row[\"model_params.temp_scaling\"])\n",
    "    elif row[\"model\"] == \"ProxPruningClassifier\":\n",
    "        model_name = \"{} with base {} and λ = {}\".format(row[\"model\"], row[\"model_params.base_estimator\"], row[\"model_params.l_reg\"])\n",
    "    elif row[\"model\"] == \"AdaBoostClassifier\":\n",
    "        model_name = \"{} with base = {} with T = {}\".format(row[\"model\"], row[\"model_params.base_estimator\"], row[\"model_params\"][\"n_estimators\"])\n",
    "    elif row[\"model\"] == \"PyBiasedProxEnsemble\":\n",
    "        model_name = \"{} with reg = {} with l_reg = {}\".format(row[\"model\"], row[\"model_params.regularizer\"], row[\"model_params.l_reg\"])\n",
    "    else:\n",
    "        model_name = row[\"model\"]\n",
    "    \n",
    "    return model_name\n",
    "\n",
    "dataset = \"covertype\"\n",
    "#dataset = \"magic\"\n",
    "dataset = os.path.join(dataset, \"results\")\n",
    "all_subdirs = [os.path.join(dataset,d) for d in os.listdir(dataset) if os.path.isdir(os.path.join(dataset, d))]\n",
    "#print(all_subdirs)\n",
    "latest_folder = max(all_subdirs, key=os.path.getmtime)\n",
    "\n",
    "#latest_folder = dataset + '/04-01-2021-14:58:21'\n",
    "df = read_jsonl(os.path.join(latest_folder, \"results.jsonl\"))\n",
    "#print(df.head(n=5))\n",
    "df[\"nice_name\"] = df.apply(nice_name, axis=1)\n",
    "df = df.round(decimals = 3)\n",
    "df"
   ]
  },
  {
   "cell_type": "code",
   "execution_count": 120,
   "metadata": {},
   "outputs": [
    {
     "output_type": "display_data",
     "data": {
      "text/plain": "<IPython.core.display.HTML object>",
      "text/html": "<table border=\"1\" class=\"dataframe\">\n  <thead>\n    <tr style=\"text-align: right;\">\n      <th></th>\n      <th>nice_name</th>\n      <th>scores.mean_test_accuracy</th>\n      <th>scores.mean_test_loss</th>\n      <th>scores.mean_train_accuracy</th>\n      <th>scores.mean_train_loss</th>\n      <th>scores.mean_n_estimators</th>\n      <th>scores.mean_fit_time</th>\n      <th>scores.mean_n_parameters</th>\n    </tr>\n  </thead>\n  <tbody>\n    <tr>\n      <th>0</th>\n      <td>RandomForestClassifier with T = 64</td>\n      <td>77.6</td>\n      <td>0.214</td>\n      <td>77.811</td>\n      <td>0.214</td>\n      <td>64.0</td>\n      <td>1.85</td>\n      <td>608305.6</td>\n    </tr>\n  </tbody>\n</table>"
     },
     "metadata": {}
    }
   ],
   "source": [
    "from IPython.display import display, HTML\n",
    "df.columns\n",
    "tabledf = df[[\"nice_name\", \"scores.mean_test_accuracy\", \"scores.mean_test_loss\", \"scores.mean_train_accuracy\", \"scores.mean_train_loss\", \"scores.mean_n_estimators\", \"scores.mean_fit_time\", \"scores.mean_n_parameters\"]]\n",
    "tabledf = tabledf.sort_values(by=['scores.mean_test_accuracy'], ascending = False)\n",
    "#display(tabledf)\n",
    "display(HTML(tabledf.to_html()))"
   ]
  },
  {
   "cell_type": "code",
   "execution_count": 50,
   "metadata": {},
   "outputs": [
    {
     "output_type": "display_data",
     "data": {
      "text/plain": "<IPython.core.display.HTML object>",
      "text/html": "<table border=\"1\" class=\"dataframe\">\n  <thead>\n    <tr style=\"text-align: right;\">\n      <th></th>\n      <th>nice_name</th>\n      <th>scores.mean_test_accuracy</th>\n      <th>scores.mean_test_loss</th>\n      <th>scores.mean_train_accuracy</th>\n      <th>scores.mean_train_loss</th>\n      <th>scores.mean_n_estimators</th>\n      <th>scores.mean_fit_time</th>\n      <th>scores.mean_n_parameters</th>\n    </tr>\n  </thead>\n  <tbody>\n    <tr>\n      <th>0</th>\n      <td>RandomForestClassifier with T = 64.0</td>\n      <td>87.781</td>\n      <td>0.228</td>\n      <td>100.000</td>\n      <td>0.157</td>\n      <td>64.0</td>\n      <td>3.774</td>\n      <td>511257.6</td>\n    </tr>\n    <tr>\n      <th>1</th>\n      <td>PyBiasedProxEnsemble with reg = none with l_reg = 0.0</td>\n      <td>73.800</td>\n      <td>0.291</td>\n      <td>73.831</td>\n      <td>0.291</td>\n      <td>64.0</td>\n      <td>61.872</td>\n      <td>64.0</td>\n    </tr>\n  </tbody>\n</table>"
     },
     "metadata": {}
    }
   ],
   "source": [
    "from IPython.display import display, HTML\n",
    "df.columns\n",
    "tabledf = df[[\"nice_name\", \"scores.mean_test_accuracy\", \"scores.mean_test_loss\", \"scores.mean_train_accuracy\", \"scores.mean_train_loss\", \"scores.mean_n_estimators\", \"scores.mean_fit_time\", \"scores.mean_n_parameters\"]]\n",
    "tabledf = tabledf.sort_values(by=['scores.mean_test_accuracy'], ascending = False)\n",
    "#display(tabledf)\n",
    "display(HTML(tabledf.to_html()))\n"
   ]
  }
 ]
}