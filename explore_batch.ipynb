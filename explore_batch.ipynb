{
 "metadata": {
  "language_info": {
   "codemirror_mode": {
    "name": "ipython",
    "version": 3
   },
   "file_extension": ".py",
   "mimetype": "text/x-python",
   "name": "python",
   "nbconvert_exporter": "python",
   "pygments_lexer": "ipython3",
   "version": "3.7.8-final"
  },
  "orig_nbformat": 2,
  "kernelspec": {
   "name": "python3",
   "display_name": "Python 3.7.8 64-bit ('psgd-ensemble': conda)",
   "metadata": {
    "interpreter": {
     "hash": "fc09ed34aa3379c1098703936949cc66f7b81a000bc20ec2e4b2f92196f2aa04"
    }
   }
  }
 },
 "nbformat": 4,
 "nbformat_minor": 2,
 "cells": [
  {
   "cell_type": "code",
   "execution_count": 1,
   "metadata": {},
   "outputs": [
    {
     "output_type": "stream",
     "name": "stdout",
     "text": [
      "['batch/magic/results/19-12-2020-00:29:11', 'batch/magic/results/29-12-2020-17:52:32', 'batch/magic/results/19-12-2020-00:30:20', 'batch/magic/results/29-12-2020-16:05:52', 'batch/magic/results/29-12-2020-23:13:22', 'batch/magic/results/19-12-2020-00:29:00', 'batch/magic/results/29-12-2020-16:01:26', 'batch/magic/results/29-12-2020-16:05:21', 'batch/magic/results/19-12-2020-00:44:39', 'batch/magic/results/19-12-2020-00:29:59', 'batch/magic/results/19-12-2020-00:46:17', 'batch/magic/results/29-12-2020-21:32:05', 'batch/magic/results/19-12-2020-00:28:09', 'batch/magic/results/29-12-2020-16:00:45', 'batch/magic/results/19-12-2020-00:28:39', 'batch/magic/results/19-12-2020-00:32:42', 'batch/magic/results/19-12-2020-00:41:45', 'batch/magic/results/29-12-2020-17:11:30', 'batch/magic/results/19-12-2020-00:32:08', 'batch/magic/results/29-12-2020-17:14:33', 'batch/magic/results/19-12-2020-00:31:24', 'batch/magic/results/19-12-2020-00:29:27', 'batch/magic/results/19-12-2020-00:30:42', 'batch/magic/results/19-12-2020-00:31:46', 'batch/magic/results/29-12-2020-17:36:31', 'batch/magic/results/29-12-2020-21:11:46', 'batch/magic/results/29-12-2020-16:05:05', 'batch/magic/results/29-12-2020-16:02:36', 'batch/magic/results/29-12-2020-17:40:10', 'batch/magic/results/19-12-2020-00:44:17', 'batch/magic/results/19-12-2020-00:34:05', 'batch/magic/results/19-12-2020-00:30:12']\n"
     ]
    },
    {
     "output_type": "execute_result",
     "data": {
      "text/plain": [
       "   X  Y  batch_size  eval_every_epochs  eval_every_items  experiment_id  idx  \\\n",
       "0  X  Y         512                  1              4096              2  idx   \n",
       "1  X  Y         512                  1              4096              5  idx   \n",
       "2  X  Y         512                  1              4096              4  idx   \n",
       "3  X  Y         512                  1              4096              1  idx   \n",
       "4  X  Y         512                  1              4096              3  idx   \n",
       "5  X  Y         512                  1              4096              0  idx   \n",
       "\n",
       "      init_mode  init_weight  l_reg  ... scores.std_n_parameters  \\\n",
       "0  fully-random          1.0  0.500  ...                   0.000   \n",
       "1  fully-random          1.0  0.050  ...               49042.652   \n",
       "2  fully-random          1.0  0.010  ...              201356.627   \n",
       "3  fully-random          1.0    NaN  ...                   0.000   \n",
       "4  fully-random          1.0  0.005  ...              264102.762   \n",
       "5  fully-random          1.0  0.001  ...              901828.702   \n",
       "\n",
       "   scores.std_test_accuracy  scores.std_test_loss scores.std_train_accuracy  \\\n",
       "0                     1.198                 0.049                     0.755   \n",
       "1                     3.539                 0.068                     3.129   \n",
       "2                     2.886                 0.030                     2.900   \n",
       "3                     0.744                 0.004                     0.215   \n",
       "4                     1.637                 0.017                     2.236   \n",
       "5                     0.491                 0.003                     0.084   \n",
       "\n",
       "   scores.std_train_loss                               scores.test_accuracy  \\\n",
       "0                  0.034  [72.16088328075709, 75.23659305993691, 74.7108...   \n",
       "1                  0.063  [74.31650893796005, 76.6298633017876, 78.39116...   \n",
       "2                  0.029  [79.94216614090432, 77.81282860147213, 71.2407...   \n",
       "3                  0.002  [86.75078864353313, 85.43638275499474, 85.8832...   \n",
       "4                  0.023  [81.80862250262881, 78.28601472134595, 80.5467...   \n",
       "5                  0.001  [85.64668769716089, 86.38275499474237, 85.8569...   \n",
       "\n",
       "                                    scores.test_loss  \\\n",
       "0  [0.9208434639444509, 0.8760281850256654, 0.864...   \n",
       "1  [0.6757587118724445, 0.5182912364948747, 0.707...   \n",
       "2  [0.2831111071237456, 0.278321621604787, 0.3611...   \n",
       "3  [0.17062713879128866, 0.1678481392499786, 0.16...   \n",
       "4  [0.21313030591644042, 0.23820306325367002, 0.2...   \n",
       "5  [0.1697322939829955, 0.16304847123076874, 0.16...   \n",
       "\n",
       "                               scores.train_accuracy  \\\n",
       "0  [73.98619783108774, 74.38711797568189, 73.3946...   \n",
       "1  [74.72888596779495, 75.8001971738416, 77.62076...   \n",
       "2  [80.90699967137694, 76.34571146894513, 71.8764...   \n",
       "3  [87.24285244824188, 87.13769306605323, 87.3414...   \n",
       "4  [82.97075254682879, 77.77850805126519, 80.7361...   \n",
       "5  [87.12454814327965, 86.92080184028919, 86.9273...   \n",
       "\n",
       "                                   scores.train_loss  \\\n",
       "0  [0.8377234727443236, 0.8845929638744648, 0.917...   \n",
       "1  [0.6563510783763646, 0.5698078253082787, 0.756...   \n",
       "2  [0.2583037904329344, 0.3078140698595861, 0.349...   \n",
       "3  [0.15737313063528902, 0.15688766192747766, 0.1...   \n",
       "4  [0.20044253516528185, 0.2544179959971455, 0.22...   \n",
       "5  [0.1569245292020206, 0.1597581311923134, 0.159...   \n",
       "\n",
       "                                           nice_name  \n",
       "0  BiasedProxEnsemble with λ = 0.5, max_depth = 1...  \n",
       "1  BiasedProxEnsemble with λ = 0.05, max_depth = ...  \n",
       "2  BiasedProxEnsemble with λ = 0.01, max_depth = ...  \n",
       "3  SGDEnsemble with T = 256, max_depth = 12, mode...  \n",
       "4  BiasedProxEnsemble with λ = 0.005, max_depth =...  \n",
       "5  BiasedProxEnsemble with λ = 0.001, max_depth =...  \n",
       "\n",
       "[6 rows x 43 columns]"
      ],
      "text/html": "<div>\n<style scoped>\n    .dataframe tbody tr th:only-of-type {\n        vertical-align: middle;\n    }\n\n    .dataframe tbody tr th {\n        vertical-align: top;\n    }\n\n    .dataframe thead th {\n        text-align: right;\n    }\n</style>\n<table border=\"1\" class=\"dataframe\">\n  <thead>\n    <tr style=\"text-align: right;\">\n      <th></th>\n      <th>X</th>\n      <th>Y</th>\n      <th>batch_size</th>\n      <th>eval_every_epochs</th>\n      <th>eval_every_items</th>\n      <th>experiment_id</th>\n      <th>idx</th>\n      <th>init_mode</th>\n      <th>init_weight</th>\n      <th>l_reg</th>\n      <th>...</th>\n      <th>scores.std_n_parameters</th>\n      <th>scores.std_test_accuracy</th>\n      <th>scores.std_test_loss</th>\n      <th>scores.std_train_accuracy</th>\n      <th>scores.std_train_loss</th>\n      <th>scores.test_accuracy</th>\n      <th>scores.test_loss</th>\n      <th>scores.train_accuracy</th>\n      <th>scores.train_loss</th>\n      <th>nice_name</th>\n    </tr>\n  </thead>\n  <tbody>\n    <tr>\n      <th>0</th>\n      <td>X</td>\n      <td>Y</td>\n      <td>512</td>\n      <td>1</td>\n      <td>4096</td>\n      <td>2</td>\n      <td>idx</td>\n      <td>fully-random</td>\n      <td>1.0</td>\n      <td>0.500</td>\n      <td>...</td>\n      <td>0.000</td>\n      <td>1.198</td>\n      <td>0.049</td>\n      <td>0.755</td>\n      <td>0.034</td>\n      <td>[72.16088328075709, 75.23659305993691, 74.7108...</td>\n      <td>[0.9208434639444509, 0.8760281850256654, 0.864...</td>\n      <td>[73.98619783108774, 74.38711797568189, 73.3946...</td>\n      <td>[0.8377234727443236, 0.8845929638744648, 0.917...</td>\n      <td>BiasedProxEnsemble with λ = 0.5, max_depth = 1...</td>\n    </tr>\n    <tr>\n      <th>1</th>\n      <td>X</td>\n      <td>Y</td>\n      <td>512</td>\n      <td>1</td>\n      <td>4096</td>\n      <td>5</td>\n      <td>idx</td>\n      <td>fully-random</td>\n      <td>1.0</td>\n      <td>0.050</td>\n      <td>...</td>\n      <td>49042.652</td>\n      <td>3.539</td>\n      <td>0.068</td>\n      <td>3.129</td>\n      <td>0.063</td>\n      <td>[74.31650893796005, 76.6298633017876, 78.39116...</td>\n      <td>[0.6757587118724445, 0.5182912364948747, 0.707...</td>\n      <td>[74.72888596779495, 75.8001971738416, 77.62076...</td>\n      <td>[0.6563510783763646, 0.5698078253082787, 0.756...</td>\n      <td>BiasedProxEnsemble with λ = 0.05, max_depth = ...</td>\n    </tr>\n    <tr>\n      <th>2</th>\n      <td>X</td>\n      <td>Y</td>\n      <td>512</td>\n      <td>1</td>\n      <td>4096</td>\n      <td>4</td>\n      <td>idx</td>\n      <td>fully-random</td>\n      <td>1.0</td>\n      <td>0.010</td>\n      <td>...</td>\n      <td>201356.627</td>\n      <td>2.886</td>\n      <td>0.030</td>\n      <td>2.900</td>\n      <td>0.029</td>\n      <td>[79.94216614090432, 77.81282860147213, 71.2407...</td>\n      <td>[0.2831111071237456, 0.278321621604787, 0.3611...</td>\n      <td>[80.90699967137694, 76.34571146894513, 71.8764...</td>\n      <td>[0.2583037904329344, 0.3078140698595861, 0.349...</td>\n      <td>BiasedProxEnsemble with λ = 0.01, max_depth = ...</td>\n    </tr>\n    <tr>\n      <th>3</th>\n      <td>X</td>\n      <td>Y</td>\n      <td>512</td>\n      <td>1</td>\n      <td>4096</td>\n      <td>1</td>\n      <td>idx</td>\n      <td>fully-random</td>\n      <td>1.0</td>\n      <td>NaN</td>\n      <td>...</td>\n      <td>0.000</td>\n      <td>0.744</td>\n      <td>0.004</td>\n      <td>0.215</td>\n      <td>0.002</td>\n      <td>[86.75078864353313, 85.43638275499474, 85.8832...</td>\n      <td>[0.17062713879128866, 0.1678481392499786, 0.16...</td>\n      <td>[87.24285244824188, 87.13769306605323, 87.3414...</td>\n      <td>[0.15737313063528902, 0.15688766192747766, 0.1...</td>\n      <td>SGDEnsemble with T = 256, max_depth = 12, mode...</td>\n    </tr>\n    <tr>\n      <th>4</th>\n      <td>X</td>\n      <td>Y</td>\n      <td>512</td>\n      <td>1</td>\n      <td>4096</td>\n      <td>3</td>\n      <td>idx</td>\n      <td>fully-random</td>\n      <td>1.0</td>\n      <td>0.005</td>\n      <td>...</td>\n      <td>264102.762</td>\n      <td>1.637</td>\n      <td>0.017</td>\n      <td>2.236</td>\n      <td>0.023</td>\n      <td>[81.80862250262881, 78.28601472134595, 80.5467...</td>\n      <td>[0.21313030591644042, 0.23820306325367002, 0.2...</td>\n      <td>[82.97075254682879, 77.77850805126519, 80.7361...</td>\n      <td>[0.20044253516528185, 0.2544179959971455, 0.22...</td>\n      <td>BiasedProxEnsemble with λ = 0.005, max_depth =...</td>\n    </tr>\n    <tr>\n      <th>5</th>\n      <td>X</td>\n      <td>Y</td>\n      <td>512</td>\n      <td>1</td>\n      <td>4096</td>\n      <td>0</td>\n      <td>idx</td>\n      <td>fully-random</td>\n      <td>1.0</td>\n      <td>0.001</td>\n      <td>...</td>\n      <td>901828.702</td>\n      <td>0.491</td>\n      <td>0.003</td>\n      <td>0.084</td>\n      <td>0.001</td>\n      <td>[85.64668769716089, 86.38275499474237, 85.8569...</td>\n      <td>[0.1697322939829955, 0.16304847123076874, 0.16...</td>\n      <td>[87.12454814327965, 86.92080184028919, 86.9273...</td>\n      <td>[0.1569245292020206, 0.1597581311923134, 0.159...</td>\n      <td>BiasedProxEnsemble with λ = 0.001, max_depth =...</td>\n    </tr>\n  </tbody>\n</table>\n<p>6 rows × 43 columns</p>\n</div>"
     },
     "metadata": {},
     "execution_count": 1
    }
   ],
   "source": [
    "import pandas as pd\n",
    "from pandas.io.json import json_normalize \n",
    "import os\n",
    "import json \n",
    "\n",
    "def read_jsonl(path):\n",
    "    data = []\n",
    "    with open(path, 'r', encoding='utf-8') as f:\n",
    "        for line in f:\n",
    "            data.append(json.loads(line))\n",
    "\n",
    "    return json_normalize(data)\n",
    "\n",
    "def nice_name(row):\n",
    "    if (row[\"model\"] in [\"RandomForestClassifier\", \"ExtraTreesClassifier\", \"GradientBoostingClassifier\"]): \n",
    "        model_name = \"{} with T = {}\".format(row[\"model\"], row[\"n_estimators\"])\n",
    "    elif row[\"model\"] == \"RiverModel\":\n",
    "        model_name = \"{} with {}\".format(row[\"model\"], row[\"river_model\"])\n",
    "    elif (row[\"model\"] == \"BiasedProxEnsemble\"):\n",
    "        if int(row[\"max_trees\"]) == 0:\n",
    "            model_name = \"{} with λ = {}, max_depth = {}, modes = {}/{}, stepsize = {}\".format(row[\"model\"],row[\"l_reg\"], row[\"max_depth\"], row[\"init_mode\"],row[\"next_mode\"], row[\"step_size\"])\n",
    "        else:\n",
    "            model_name = \"{} with T = {}, max_depth = {}, modes = {}/{}, stepsize = {} with λ = {}\".format(row[\"model\"], row[\"max_trees\"], row[\"max_depth\"], row[\"step_size\"], row[\"init_mode\"],row[\"next_mode\"], row[\"l_reg\"])\n",
    "    elif row[\"model\"] == \"JaxModel\":\n",
    "        model_name = \"{} with T = {}, max_depth = {}, with temp_scaling = {}\".format(row[\"model\"], row[\"n_trees\"], row[\"max_depth\"], row[\"temp_scaling\"])\n",
    "    else:\n",
    "        model_name = \"{} with T = {}, max_depth = {}, modes = {}/{}, stepsize = {}\".format(row[\"model\"], row[\"max_trees\"], row[\"max_depth\"], row[\"init_mode\"],row[\"next_mode\"], row[\"step_size\"])\n",
    "    \n",
    "    return model_name\n",
    "\n",
    "#dataset = \"covertype\"\n",
    "dataset = \"batch/magic\"\n",
    "dataset = os.path.join(dataset, \"results\")\n",
    "all_subdirs = [os.path.join(dataset,d) for d in os.listdir(dataset) if os.path.isdir(os.path.join(dataset, d))]\n",
    "print(all_subdirs)\n",
    "latest_folder = max(all_subdirs, key=os.path.getmtime)\n",
    "\n",
    "#latest_folder = dataset + \"/29-12-2020-16:05:52\"\n",
    "df = read_jsonl(os.path.join(latest_folder, \"results.jsonl\"))\n",
    "\n",
    "df[\"nice_name\"] = df.apply(nice_name, axis=1)\n",
    "df = df.round(decimals = 3)\n",
    "df"
   ]
  },
  {
   "cell_type": "code",
   "execution_count": 2,
   "metadata": {},
   "outputs": [
    {
     "output_type": "display_data",
     "data": {
      "text/plain": "<IPython.core.display.HTML object>",
      "text/html": "<table border=\"1\" class=\"dataframe\">\n  <thead>\n    <tr style=\"text-align: right;\">\n      <th></th>\n      <th>nice_name</th>\n      <th>scores.mean_test_accuracy</th>\n      <th>scores.mean_n_estimators</th>\n      <th>scores.mean_fit_time</th>\n      <th>scores.mean_n_parameters</th>\n    </tr>\n  </thead>\n  <tbody>\n    <tr>\n      <th>3</th>\n      <td>SGDEnsemble with T = 256, max_depth = 12, modes = fully-random/gradient, stepsize = 0.01</td>\n      <td>86.177</td>\n      <td>256.0</td>\n      <td>331.020</td>\n      <td>2097152.0</td>\n    </tr>\n    <tr>\n      <th>5</th>\n      <td>BiasedProxEnsemble with λ = 0.001, max_depth = 15, modes = fully-random/gradient, stepsize = 0.01</td>\n      <td>86.103</td>\n      <td>998.2</td>\n      <td>1341.272</td>\n      <td>65418035.2</td>\n    </tr>\n    <tr>\n      <th>4</th>\n      <td>BiasedProxEnsemble with λ = 0.005, max_depth = 15, modes = fully-random/gradient, stepsize = 0.01</td>\n      <td>79.468</td>\n      <td>173.4</td>\n      <td>343.156</td>\n      <td>11363942.4</td>\n    </tr>\n    <tr>\n      <th>2</th>\n      <td>BiasedProxEnsemble with λ = 0.01, max_depth = 15, modes = fully-random/gradient, stepsize = 0.01</td>\n      <td>76.182</td>\n      <td>79.4</td>\n      <td>216.586</td>\n      <td>5203558.4</td>\n    </tr>\n    <tr>\n      <th>0</th>\n      <td>BiasedProxEnsemble with λ = 0.5, max_depth = 15, modes = fully-random/gradient, stepsize = 0.01</td>\n      <td>74.057</td>\n      <td>1.0</td>\n      <td>105.392</td>\n      <td>65536.0</td>\n    </tr>\n    <tr>\n      <th>1</th>\n      <td>BiasedProxEnsemble with λ = 0.05, max_depth = 15, modes = fully-random/gradient, stepsize = 0.01</td>\n      <td>73.831</td>\n      <td>15.2</td>\n      <td>119.381</td>\n      <td>996147.2</td>\n    </tr>\n  </tbody>\n</table>"
     },
     "metadata": {}
    }
   ],
   "source": [
    "from IPython.display import display, HTML\n",
    "df.columns\n",
    "tabledf = df[[\"nice_name\", \"scores.mean_test_accuracy\", \"scores.mean_n_estimators\", \"scores.mean_fit_time\", \"scores.mean_n_parameters\"]]\n",
    "tabledf = tabledf.sort_values(by=['scores.mean_test_accuracy'], ascending = False)\n",
    "#display(tabledf)\n",
    "display(HTML(tabledf.to_html()))"
   ]
  }
 ]
}